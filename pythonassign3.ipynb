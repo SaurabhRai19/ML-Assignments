{
  "nbformat": 4,
  "nbformat_minor": 0,
  "metadata": {
    "colab": {
      "name": "pythonassign3.ipynb",
      "provenance": []
    },
    "kernelspec": {
      "name": "python3",
      "display_name": "Python 3"
    }
  },
  "cells": [
    {
      "cell_type": "markdown",
      "metadata": {
        "id": "w1bNkPNJa1Zn",
        "colab_type": "text"
      },
      "source": [
        "# **Python Assignment 3**"
      ]
    },
    {
      "cell_type": "markdown",
      "metadata": {
        "id": "K-MBcXPsQiE-",
        "colab_type": "text"
      },
      "source": [
        "1.1 Write a Python Program to implement your own myreduce() function which works exactly like Python's built-in function reduce()\n",
        "\n",
        "1.2 Write a Python program to implement your own myfilter() function which works exactly like Python's built-in function filter()\n"
      ]
    },
    {
      "cell_type": "code",
      "metadata": {
        "id": "RzLnZM3ANzFE",
        "colab_type": "code",
        "colab": {
          "base_uri": "https://localhost:8080/",
          "height": 50
        },
        "outputId": "434f294a-4dbe-443b-df2c-1ffb1354c792"
      },
      "source": [
        "def myreduce(sumfunc, seq):\n",
        "\n",
        " # Get first item in sequence and assign to result\n",
        "  result = seq[0]\n",
        " # iterating over remaining items in sequence and applying reduce function \n",
        "  for item in seq[1:]:\n",
        "   result = sumfunc(result, item)\n",
        "\n",
        "  return result\n",
        "\n",
        "\n",
        "# Custom filter function \n",
        "def myfilter(isposfunc, sequence):\n",
        "\n",
        " result = []\n",
        " for item in sequence:\n",
        "  if isposfunc(item):\n",
        "   result.append(item)\n",
        "\n",
        " # return output\n",
        " return result\n",
        "\n",
        "# to be used by myfilter function\n",
        "def ispositive(x):\n",
        " if (x <= 0): \n",
        "  return False \n",
        " else: \n",
        "  return True\n",
        "\n",
        "#to be used by myreduce function\n",
        "def sum(x,y): return x + y\n",
        "\n",
        "print (\"After reducing that is doing the sum of all datasets =  \"   + str(myreduce(sum, [1,2,3,6,8])) )\n",
        "print (\"After filtering out the negative datasets = \"  + str(myfilter(ispositive, [0,-1,-2,-3,4,5])))"
      ],
      "execution_count": 8,
      "outputs": [
        {
          "output_type": "stream",
          "text": [
            "After reducing that is doing the sum of all datasets =  20\n",
            "After filtering out the negative datasets = [4, 5]\n"
          ],
          "name": "stdout"
        }
      ]
    },
    {
      "cell_type": "markdown",
      "metadata": {
        "id": "Wy_SHqPUQwkg",
        "colab_type": "text"
      },
      "source": [
        "2. Implement List comprehensions to produce the following lists.\n",
        "Write List comprehensions to produce the following Lists\n",
        "\n",
        "  ['A', 'C', 'A', 'D', 'G', 'I', ’L’, ‘ D’]\n",
        "\n",
        "  ['x', 'xx', 'xxx', 'xxxx', 'y', 'yy', 'yyy', 'yyyy', 'z', 'zz', 'zzz', 'zzzz']\n",
        "\n",
        "  ['x', 'y', 'z', 'xx', 'yy', 'zz', 'xxx', 'yyy', 'zzz', 'xxxx', 'yyyy', 'zzzz']\n",
        "\n",
        "  [[2], [3], [4], [3], [4], [5], [4], [5], [6]] \n",
        "\n",
        "  [[2, 3, 4, 5], [3, 4, 5, 6],[4, 5, 6, 7], [5, 6, 7, 8]]\n",
        "\n",
        "  [(1, 1), (2, 1), (3, 1), (1, 2), (2, 2), (3, 2), (1, 3), (2, 3), (3, 3)]"
      ]
    },
    {
      "cell_type": "code",
      "metadata": {
        "id": "uBRWgJTsQxdv",
        "colab_type": "code",
        "colab": {
          "base_uri": "https://localhost:8080/",
          "height": 202
        },
        "outputId": "ea1b554d-a430-4024-ecfe-2167a44d671e"
      },
      "source": [
        "result=[i for i in ['A','C','A','D','G','I','L','D']]\n",
        "print(result)\n",
        "print()\n",
        "l=['x','y','z']\n",
        "result=[i*num for i in l for num in range(1,5)]\n",
        "print(result)\n",
        "print()\n",
        "result=[i*num for num in range(1,5) for i in l]\n",
        "print(result)\n",
        "print()\n",
        "input_list = [2,3,4]\n",
        "result = [ [i+num] for i in input_list for num in range(0,3)]\n",
        "print(result)\n",
        "print()\n",
        "input_list=[2,3,4,5]\n",
        "result=[[i+num for i in input_list] for num in range(0,4)]\n",
        "print(result)\n",
        "print()\n",
        "input_list=[1,2,3]\n",
        "result=[(item1,item2) for item2 in input_list for item1 in input_list ]\n",
        "print(result)"
      ],
      "execution_count": 32,
      "outputs": [
        {
          "output_type": "stream",
          "text": [
            "['A', 'C', 'A', 'D', 'G', 'I', 'L', 'D']\n",
            "\n",
            "['x', 'xx', 'xxx', 'xxxx', 'y', 'yy', 'yyy', 'yyyy', 'z', 'zz', 'zzz', 'zzzz']\n",
            "\n",
            "['x', 'y', 'z', 'xx', 'yy', 'zz', 'xxx', 'yyy', 'zzz', 'xxxx', 'yyyy', 'zzzz']\n",
            "\n",
            "[[2], [3], [4], [3], [4], [5], [4], [5], [6]]\n",
            "\n",
            "[[2, 3, 4, 5], [3, 4, 5, 6], [4, 5, 6, 7], [5, 6, 7, 8]]\n",
            "\n",
            "[(1, 1), (2, 1), (3, 1), (1, 2), (2, 2), (3, 2), (1, 3), (2, 3), (3, 3)]\n"
          ],
          "name": "stdout"
        }
      ]
    }
  ]
}