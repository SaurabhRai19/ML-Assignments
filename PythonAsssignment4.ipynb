{
  "nbformat": 4,
  "nbformat_minor": 0,
  "metadata": {
    "colab": {
      "name": "Untitled3.ipynb",
      "provenance": []
    },
    "kernelspec": {
      "name": "python3",
      "display_name": "Python 3"
    }
  },
  "cells": [
    {
      "cell_type": "markdown",
      "metadata": {
        "id": "4ZqP4wmFYOgw",
        "colab_type": "text"
      },
      "source": [
        "# **Python Assignment 4**"
      ]
    },
    {
      "cell_type": "markdown",
      "metadata": {
        "id": "yadQcJMvk0if",
        "colab_type": "text"
      },
      "source": [
        "1.1 Write a Python Program(with class concepts) to find the area of the triangle using the below\n",
        "formula.\n",
        "\n",
        "area = (s*(s-a)*(s-b)*(s-c)) ** 0.5\n",
        "\n",
        "Function to take the length of the sides of triangle from user should be defined in the parent class and function to calculate the area should be defined in subclass."
      ]
    },
    {
      "cell_type": "code",
      "metadata": {
        "id": "OUe3T3SGkqvd",
        "colab_type": "code",
        "outputId": "4de1dde5-8015-40f1-b27e-50000516ba0d",
        "colab": {
          "base_uri": "https://localhost:8080/",
          "height": 67
        }
      },
      "source": [
        "class Base:\n",
        "  def __init__(self,s1,s2,s3):\n",
        "    self.a=s1\n",
        "    self.b=s2\n",
        "    self.c=s3\n",
        "class Derived(Base):\n",
        "  def __init__(self,a,b,c,s=0,area=0):\n",
        "    super().__init__(a,b,c)\n",
        "    self.s=s\n",
        "    self.area=area\n",
        "  def cal_area(self):\n",
        "    self.s=(self.a+self.b+self.c)/2\n",
        "    self.area=self.s*(self.s-self.a)*(self.s-self.b)*(self.s-self.c)**0.5\n",
        "    \n",
        "  def print(self):\n",
        "    print(\"Area: \",int(self.area))\n",
        "\n",
        "obj=Derived(5,5,5)\n",
        "obj.cal_area()\n",
        "obj.print()\n",
        "obj1=Derived(6,6,6)\n",
        "obj1.cal_area()\n",
        "obj1.print()\n",
        "obj2=Derived(7,7,7)\n",
        "obj2.cal_area()\n",
        "obj2.print()\n"
      ],
      "execution_count": 44,
      "outputs": [
        {
          "output_type": "stream",
          "text": [
            "Area:  74\n",
            "Area:  140\n",
            "Area:  240\n"
          ],
          "name": "stdout"
        }
      ]
    },
    {
      "cell_type": "markdown",
      "metadata": {
        "id": "Od0-phXGDvRO",
        "colab_type": "text"
      },
      "source": [
        "1.2 Write a function filter_long_words() that takes a list of words and an integer n and returns the list of words that are longer than n."
      ]
    },
    {
      "cell_type": "code",
      "metadata": {
        "id": "Adj4-_6sDvyH",
        "colab_type": "code",
        "colab": {
          "base_uri": "https://localhost:8080/",
          "height": 50
        },
        "outputId": "289218f5-1df7-4aab-bb90-93909ad32e60"
      },
      "source": [
        "def filter_long_words(l,n):\n",
        "  count=0\n",
        "  lis=[]\n",
        "  for i in l:\n",
        "    count=len(i)\n",
        "    if(count>n):\n",
        "      lis.append(i)\n",
        "  return lis\n",
        "li=[x for x in input(\"Enter list members: \").split()]\n",
        "lis=filter_long_words(li,3)\n",
        "lis"
      ],
      "execution_count": 27,
      "outputs": [
        {
          "output_type": "stream",
          "text": [
            "Enter list members: hello hi hola\n"
          ],
          "name": "stdout"
        },
        {
          "output_type": "execute_result",
          "data": {
            "text/plain": [
              "['hello', 'hola']"
            ]
          },
          "metadata": {
            "tags": []
          },
          "execution_count": 27
        }
      ]
    },
    {
      "cell_type": "markdown",
      "metadata": {
        "id": "u0D1-0OuQSl-",
        "colab_type": "text"
      },
      "source": [
        "2.1 Write a Python program using function concept that maps list of words into a list of integers representing the lengths of the corresponding words.\n",
        "\n",
        "Hint: If a list [ ab,cde,erty] is passed on to the python function output should come as [2,3,4]\n",
        "\n",
        "Here 2,3 and 4 are the lengths of the words in the list."
      ]
    },
    {
      "cell_type": "code",
      "metadata": {
        "id": "8BMNdDRtQS1x",
        "colab_type": "code",
        "colab": {
          "base_uri": "https://localhost:8080/",
          "height": 67
        },
        "outputId": "ec745f34-761f-407c-ac1a-0ea58113df6c"
      },
      "source": [
        "def word_length(s):\n",
        "  return len(s)\n",
        "wordList=[x for x in input(\"Enter words: \").split()]\n",
        "lenList=list(map(word_length,wordList))\n",
        "print(\"List with corresponding sizes: \")\n",
        "lenList"
      ],
      "execution_count": 34,
      "outputs": [
        {
          "output_type": "stream",
          "text": [
            "Enter words: Babubhaiya Raju Shyam\n",
            "List with corresponding sizes: \n"
          ],
          "name": "stdout"
        },
        {
          "output_type": "execute_result",
          "data": {
            "text/plain": [
              "[10, 4, 5]"
            ]
          },
          "metadata": {
            "tags": []
          },
          "execution_count": 34
        }
      ]
    },
    {
      "cell_type": "markdown",
      "metadata": {
        "id": "oL58Xcn7QTMf",
        "colab_type": "text"
      },
      "source": [
        "2.2 Write a Python function which takes a character (i.e. a string of length 1) and returns True if it is a vowel, False otherwise."
      ]
    },
    {
      "cell_type": "code",
      "metadata": {
        "id": "toqBNyJOQTcs",
        "colab_type": "code",
        "colab": {
          "base_uri": "https://localhost:8080/",
          "height": 50
        },
        "outputId": "d325bcb3-db69-4cc7-a1db-d4c1d51ad1e6"
      },
      "source": [
        "def vowelornot(c):\n",
        "  if c=='a' or c=='e' or c=='i' or c=='o' or c=='u' or c=='A' or c=='E' or c=='I' or c=='O' or c=='U' :\n",
        "    return True\n",
        "  else:\n",
        "    return False\n",
        "\n",
        "s=input(\"Enter Alphabet to check: \")\n",
        "if(vowelornot(s)):\n",
        "  print(\"Vowel!\")\n",
        "else:\n",
        "  print(\"Not a Vowel\")"
      ],
      "execution_count": 39,
      "outputs": [
        {
          "output_type": "stream",
          "text": [
            "Enter Alphabet to check: A\n",
            "Vowel!\n"
          ],
          "name": "stdout"
        }
      ]
    }
  ]
}